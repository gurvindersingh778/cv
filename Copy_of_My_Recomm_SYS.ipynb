{
  "nbformat": 4,
  "nbformat_minor": 0,
  "metadata": {
    "colab": {
      "name": "Copy of My Recomm SYS.ipynb",
      "provenance": [],
      "collapsed_sections": [],
      "authorship_tag": "ABX9TyMI7AvmPID/QPyrzghuFKnn",
      "include_colab_link": true
    },
    "kernelspec": {
      "name": "python3",
      "display_name": "Python 3"
    },
    "accelerator": "GPU"
  },
  "cells": [
    {
      "cell_type": "markdown",
      "metadata": {
        "id": "view-in-github",
        "colab_type": "text"
      },
      "source": [
        "<a href=\"https://colab.research.google.com/github/gurvindersingh778/cv/blob/master/Copy_of_My_Recomm_SYS.ipynb\" target=\"_parent\"><img src=\"https://colab.research.google.com/assets/colab-badge.svg\" alt=\"Open In Colab\"/></a>"
      ]
    },
    {
      "cell_type": "code",
      "metadata": {
        "id": "QX9h2BBLsQPs"
      },
      "source": [
        "import numpy as np\n",
        "import pandas as pd\n",
        "import matplotlib.pyplot as plt\n"
      ],
      "execution_count": null,
      "outputs": []
    },
    {
      "cell_type": "code",
      "metadata": {
        "id": "tJl90M-gZBqK",
        "colab": {
          "base_uri": "https://localhost:8080/",
          "height": 37
        },
        "outputId": "99964d8e-2ceb-4785-9d8e-545f4322b734"
      },
      "source": [
        "import tensorflow as tf\n",
        "tf.test.gpu_device_name()"
      ],
      "execution_count": null,
      "outputs": [
        {
          "output_type": "execute_result",
          "data": {
            "application/vnd.google.colaboratory.intrinsic": {
              "type": "string"
            },
            "text/plain": [
              "'/device:GPU:0'"
            ]
          },
          "metadata": {
            "tags": []
          },
          "execution_count": 43
        }
      ]
    },
    {
      "cell_type": "code",
      "metadata": {
        "id": "ukyOj-WXtYWz"
      },
      "source": [
        "movies=pd.read_csv(\"movies.csv\")"
      ],
      "execution_count": null,
      "outputs": []
    },
    {
      "cell_type": "code",
      "metadata": {
        "id": "ACF26Y1FtgW0",
        "colab": {
          "base_uri": "https://localhost:8080/",
          "height": 204
        },
        "outputId": "603caf64-c0d2-4572-9e21-d85b90950f07"
      },
      "source": [
        "ratings=pd.read_csv(\"ratings.csv\")\n",
        "\n",
        "movies.head()"
      ],
      "execution_count": null,
      "outputs": [
        {
          "output_type": "execute_result",
          "data": {
            "text/html": [
              "<div>\n",
              "<style scoped>\n",
              "    .dataframe tbody tr th:only-of-type {\n",
              "        vertical-align: middle;\n",
              "    }\n",
              "\n",
              "    .dataframe tbody tr th {\n",
              "        vertical-align: top;\n",
              "    }\n",
              "\n",
              "    .dataframe thead th {\n",
              "        text-align: right;\n",
              "    }\n",
              "</style>\n",
              "<table border=\"1\" class=\"dataframe\">\n",
              "  <thead>\n",
              "    <tr style=\"text-align: right;\">\n",
              "      <th></th>\n",
              "      <th>movieId</th>\n",
              "      <th>title</th>\n",
              "      <th>genres</th>\n",
              "    </tr>\n",
              "  </thead>\n",
              "  <tbody>\n",
              "    <tr>\n",
              "      <th>0</th>\n",
              "      <td>1</td>\n",
              "      <td>Toy Story (1995)</td>\n",
              "      <td>Adventure|Animation|Children|Comedy|Fantasy</td>\n",
              "    </tr>\n",
              "    <tr>\n",
              "      <th>1</th>\n",
              "      <td>2</td>\n",
              "      <td>Jumanji (1995)</td>\n",
              "      <td>Adventure|Children|Fantasy</td>\n",
              "    </tr>\n",
              "    <tr>\n",
              "      <th>2</th>\n",
              "      <td>3</td>\n",
              "      <td>Grumpier Old Men (1995)</td>\n",
              "      <td>Comedy|Romance</td>\n",
              "    </tr>\n",
              "    <tr>\n",
              "      <th>3</th>\n",
              "      <td>4</td>\n",
              "      <td>Waiting to Exhale (1995)</td>\n",
              "      <td>Comedy|Drama|Romance</td>\n",
              "    </tr>\n",
              "    <tr>\n",
              "      <th>4</th>\n",
              "      <td>5</td>\n",
              "      <td>Father of the Bride Part II (1995)</td>\n",
              "      <td>Comedy</td>\n",
              "    </tr>\n",
              "  </tbody>\n",
              "</table>\n",
              "</div>"
            ],
            "text/plain": [
              "   movieId  ...                                       genres\n",
              "0        1  ...  Adventure|Animation|Children|Comedy|Fantasy\n",
              "1        2  ...                   Adventure|Children|Fantasy\n",
              "2        3  ...                               Comedy|Romance\n",
              "3        4  ...                         Comedy|Drama|Romance\n",
              "4        5  ...                                       Comedy\n",
              "\n",
              "[5 rows x 3 columns]"
            ]
          },
          "metadata": {
            "tags": []
          },
          "execution_count": 5
        }
      ]
    },
    {
      "cell_type": "code",
      "metadata": {
        "id": "hqnvOi_hH4DR"
      },
      "source": [
        ""
      ],
      "execution_count": null,
      "outputs": []
    },
    {
      "cell_type": "code",
      "metadata": {
        "id": "JvrMTnketu2B",
        "colab": {
          "base_uri": "https://localhost:8080/",
          "height": 204
        },
        "outputId": "4a755fae-0082-4c19-dec1-1501ffa43a6d"
      },
      "source": [
        "ratings.head()\n",
        "\n",
        "\n",
        "\n"
      ],
      "execution_count": null,
      "outputs": [
        {
          "output_type": "execute_result",
          "data": {
            "text/html": [
              "<div>\n",
              "<style scoped>\n",
              "    .dataframe tbody tr th:only-of-type {\n",
              "        vertical-align: middle;\n",
              "    }\n",
              "\n",
              "    .dataframe tbody tr th {\n",
              "        vertical-align: top;\n",
              "    }\n",
              "\n",
              "    .dataframe thead th {\n",
              "        text-align: right;\n",
              "    }\n",
              "</style>\n",
              "<table border=\"1\" class=\"dataframe\">\n",
              "  <thead>\n",
              "    <tr style=\"text-align: right;\">\n",
              "      <th></th>\n",
              "      <th>userId</th>\n",
              "      <th>movieId</th>\n",
              "      <th>rating</th>\n",
              "      <th>timestamp</th>\n",
              "    </tr>\n",
              "  </thead>\n",
              "  <tbody>\n",
              "    <tr>\n",
              "      <th>0</th>\n",
              "      <td>1</td>\n",
              "      <td>1</td>\n",
              "      <td>4.0</td>\n",
              "      <td>964982703</td>\n",
              "    </tr>\n",
              "    <tr>\n",
              "      <th>1</th>\n",
              "      <td>1</td>\n",
              "      <td>3</td>\n",
              "      <td>4.0</td>\n",
              "      <td>964981247</td>\n",
              "    </tr>\n",
              "    <tr>\n",
              "      <th>2</th>\n",
              "      <td>1</td>\n",
              "      <td>6</td>\n",
              "      <td>4.0</td>\n",
              "      <td>964982224</td>\n",
              "    </tr>\n",
              "    <tr>\n",
              "      <th>3</th>\n",
              "      <td>1</td>\n",
              "      <td>47</td>\n",
              "      <td>5.0</td>\n",
              "      <td>964983815</td>\n",
              "    </tr>\n",
              "    <tr>\n",
              "      <th>4</th>\n",
              "      <td>1</td>\n",
              "      <td>50</td>\n",
              "      <td>5.0</td>\n",
              "      <td>964982931</td>\n",
              "    </tr>\n",
              "  </tbody>\n",
              "</table>\n",
              "</div>"
            ],
            "text/plain": [
              "   userId  movieId  rating  timestamp\n",
              "0       1        1     4.0  964982703\n",
              "1       1        3     4.0  964981247\n",
              "2       1        6     4.0  964982224\n",
              "3       1       47     5.0  964983815\n",
              "4       1       50     5.0  964982931"
            ]
          },
          "metadata": {
            "tags": []
          },
          "execution_count": 6
        }
      ]
    },
    {
      "cell_type": "markdown",
      "metadata": {
        "id": "sDSyVZ3buljX"
      },
      "source": [
        "OUR MAIN FOCUS IS ON RATINGS DATAFRAME.SINCE WE ARE DOING A COLLABORATIVE FILTERING SO WE DON'T NEED THE GENRES OF MOVIES ."
      ]
    },
    {
      "cell_type": "code",
      "metadata": {
        "id": "DKwVeBYhu8Dq",
        "colab": {
          "base_uri": "https://localhost:8080/",
          "height": 204
        },
        "outputId": "9f43a464-0e1e-4e03-c41f-09d876f68e5d"
      },
      "source": [
        "ratings.info()"
      ],
      "execution_count": null,
      "outputs": [
        {
          "output_type": "stream",
          "text": [
            "<class 'pandas.core.frame.DataFrame'>\n",
            "RangeIndex: 100836 entries, 0 to 100835\n",
            "Data columns (total 4 columns):\n",
            " #   Column     Non-Null Count   Dtype  \n",
            "---  ------     --------------   -----  \n",
            " 0   userId     100836 non-null  int64  \n",
            " 1   movieId    100836 non-null  int64  \n",
            " 2   rating     100836 non-null  float64\n",
            " 3   timestamp  100836 non-null  int64  \n",
            "dtypes: float64(1), int64(3)\n",
            "memory usage: 3.1 MB\n"
          ],
          "name": "stdout"
        }
      ]
    },
    {
      "cell_type": "code",
      "metadata": {
        "id": "UHtVoOGXvDSA",
        "colab": {
          "base_uri": "https://localhost:8080/",
          "height": 187
        },
        "outputId": "a9c880ea-5b6f-4d7a-a6ba-9da7538a5c5c"
      },
      "source": [
        "movies.info()"
      ],
      "execution_count": null,
      "outputs": [
        {
          "output_type": "stream",
          "text": [
            "<class 'pandas.core.frame.DataFrame'>\n",
            "RangeIndex: 9742 entries, 0 to 9741\n",
            "Data columns (total 3 columns):\n",
            " #   Column   Non-Null Count  Dtype \n",
            "---  ------   --------------  ----- \n",
            " 0   movieId  9742 non-null   int64 \n",
            " 1   title    9742 non-null   object\n",
            " 2   genres   9742 non-null   object\n",
            "dtypes: int64(1), object(2)\n",
            "memory usage: 228.5+ KB\n"
          ],
          "name": "stdout"
        }
      ]
    },
    {
      "cell_type": "code",
      "metadata": {
        "id": "yEe1UQnSvSjn"
      },
      "source": [
        ""
      ],
      "execution_count": null,
      "outputs": []
    },
    {
      "cell_type": "markdown",
      "metadata": {
        "id": "uOj4XwPwvvpa"
      },
      "source": [
        "STORING MOVIES IN A NUMPY MATRIX WHERE THE MOVIES RATED BY A PARTICULAR USER WILL BE STORED ROW WISE.\n",
        "WE WILL USE THE USER ID AS ROW NO AND MOVIE ID WILL BE USED AS COLUMN NO "
      ]
    },
    {
      "cell_type": "code",
      "metadata": {
        "id": "zwKWuwjBwYk9",
        "colab": {
          "base_uri": "https://localhost:8080/",
          "height": 333
        },
        "outputId": "1a542ff6-3420-4925-e265-b6016f83dda2"
      },
      "source": [
        "plt.hist(ratings['rating'])"
      ],
      "execution_count": null,
      "outputs": [
        {
          "output_type": "execute_result",
          "data": {
            "text/plain": [
              "(array([ 1370.,  2811.,  1791.,  7551.,  5550., 20047., 13136., 26818.,\n",
              "         8551., 13211.]),\n",
              " array([0.5 , 0.95, 1.4 , 1.85, 2.3 , 2.75, 3.2 , 3.65, 4.1 , 4.55, 5.  ]),\n",
              " <a list of 10 Patch objects>)"
            ]
          },
          "metadata": {
            "tags": []
          },
          "execution_count": 8
        },
        {
          "output_type": "display_data",
          "data": {
            "image/png": "[encoded data removed]",
            "text/plain": [
              "<Figure size 432x288 with 1 Axes>"
            ]
          },
          "metadata": {
            "tags": [],
            "needs_background": "light"
          }
        }
      ]
    },
    {
      "cell_type": "code",
      "metadata": {
        "id": "S1aXMecsxjCi",
        "colab": {
          "base_uri": "https://localhost:8080/",
          "height": 181
        },
        "outputId": "add2b7c7-2910-4223-de17-e856898145ce"
      },
      "source": [
        "users=ratings['userId'].nunique()\n",
        "print(users,movie_ids)"
      ],
      "execution_count": null,
      "outputs": [
        {
          "output_type": "error",
          "ename": "NameError",
          "evalue": "ignored",
          "traceback": [
            "\u001b[0;31m---------------------------------------------------------------------------\u001b[0m",
            "\u001b[0;31mNameError\u001b[0m                                 Traceback (most recent call last)",
            "\u001b[0;32m<ipython-input-9-e49eb7345ba9>\u001b[0m in \u001b[0;36m<module>\u001b[0;34m()\u001b[0m\n\u001b[1;32m      1\u001b[0m \u001b[0musers\u001b[0m\u001b[0;34m=\u001b[0m\u001b[0mratings\u001b[0m\u001b[0;34m[\u001b[0m\u001b[0;34m'userId'\u001b[0m\u001b[0;34m]\u001b[0m\u001b[0;34m.\u001b[0m\u001b[0mnunique\u001b[0m\u001b[0;34m(\u001b[0m\u001b[0;34m)\u001b[0m\u001b[0;34m\u001b[0m\u001b[0;34m\u001b[0m\u001b[0m\n\u001b[0;32m----> 2\u001b[0;31m \u001b[0mprint\u001b[0m\u001b[0;34m(\u001b[0m\u001b[0musers\u001b[0m\u001b[0;34m,\u001b[0m\u001b[0mmovie_ids\u001b[0m\u001b[0;34m)\u001b[0m\u001b[0;34m\u001b[0m\u001b[0;34m\u001b[0m\u001b[0m\n\u001b[0m",
            "\u001b[0;31mNameError\u001b[0m: name 'movie_ids' is not defined"
          ]
        }
      ]
    },
    {
      "cell_type": "code",
      "metadata": {
        "id": "GBYW8dUayWt_"
      },
      "source": [
        "matrix=np.zeros((610,9742))"
      ],
      "execution_count": null,
      "outputs": []
    },
    {
      "cell_type": "code",
      "metadata": {
        "id": "aW-NRyDx0Yj2",
        "colab": {
          "base_uri": "https://localhost:8080/",
          "height": 136
        },
        "outputId": "89a080a5-4af1-4c34-a5d3-2f24aa084800"
      },
      "source": [
        "matrix"
      ],
      "execution_count": null,
      "outputs": [
        {
          "output_type": "execute_result",
          "data": {
            "text/plain": [
              "array([[0., 0., 0., ..., 0., 0., 0.],\n",
              "       [0., 0., 0., ..., 0., 0., 0.],\n",
              "       [0., 0., 0., ..., 0., 0., 0.],\n",
              "       ...,\n",
              "       [0., 0., 0., ..., 0., 0., 0.],\n",
              "       [0., 0., 0., ..., 0., 0., 0.],\n",
              "       [0., 0., 0., ..., 0., 0., 0.]])"
            ]
          },
          "metadata": {
            "tags": []
          },
          "execution_count": 20
        }
      ]
    },
    {
      "cell_type": "code",
      "metadata": {
        "id": "uLCcD9lk01zq"
      },
      "source": [
        "matrix=matrix-1"
      ],
      "execution_count": null,
      "outputs": []
    },
    {
      "cell_type": "code",
      "metadata": {
        "id": "6GyyN2lt05D5",
        "colab": {
          "base_uri": "https://localhost:8080/",
          "height": 34
        },
        "outputId": "2b4449fe-7665-454e-da9f-1c79a46d1576"
      },
      "source": [
        "matrix.shape"
      ],
      "execution_count": null,
      "outputs": [
        {
          "output_type": "execute_result",
          "data": {
            "text/plain": [
              "(610, 9742)"
            ]
          },
          "metadata": {
            "tags": []
          },
          "execution_count": 22
        }
      ]
    },
    {
      "cell_type": "code",
      "metadata": {
        "id": "JFSFS6UB06NN"
      },
      "source": [
        "r=ratings.values"
      ],
      "execution_count": null,
      "outputs": []
    },
    {
      "cell_type": "code",
      "metadata": {
        "id": "LS-rJdv01BAM",
        "colab": {
          "base_uri": "https://localhost:8080/",
          "height": 136
        },
        "outputId": "965f525a-ddf4-4f30-f5f5-434e2c408b07"
      },
      "source": [
        "r=r[:,0:3]\n",
        "print(r)"
      ],
      "execution_count": null,
      "outputs": [
        {
          "output_type": "stream",
          "text": [
            "[[1.00000e+00 1.00000e+00 4.00000e+00]\n",
            " [1.00000e+00 3.00000e+00 4.00000e+00]\n",
            " [1.00000e+00 6.00000e+00 4.00000e+00]\n",
            " ...\n",
            " [6.10000e+02 1.68250e+05 5.00000e+00]\n",
            " [6.10000e+02 1.68252e+05 5.00000e+00]\n",
            " [6.10000e+02 1.70875e+05 3.00000e+00]]\n"
          ],
          "name": "stdout"
        }
      ]
    },
    {
      "cell_type": "code",
      "metadata": {
        "id": "AzvKo3ES2Jb6",
        "colab": {
          "base_uri": "https://localhost:8080/",
          "height": 34
        },
        "outputId": "9defe5f8-d45c-4e2a-8655-bdbe7a808be4"
      },
      "source": [
        "r.shape"
      ],
      "execution_count": null,
      "outputs": [
        {
          "output_type": "execute_result",
          "data": {
            "text/plain": [
              "(100836, 3)"
            ]
          },
          "metadata": {
            "tags": []
          },
          "execution_count": 28
        }
      ]
    },
    {
      "cell_type": "code",
      "metadata": {
        "id": "tpmt6ed63QHp",
        "colab": {
          "base_uri": "https://localhost:8080/",
          "height": 164
        },
        "outputId": "f3dc2d82-c7ee-4434-be0a-7486d1754c07"
      },
      "source": [
        "matrix"
      ],
      "execution_count": null,
      "outputs": [
        {
          "output_type": "error",
          "ename": "NameError",
          "evalue": "ignored",
          "traceback": [
            "\u001b[0;31m---------------------------------------------------------------------------\u001b[0m",
            "\u001b[0;31mNameError\u001b[0m                                 Traceback (most recent call last)",
            "\u001b[0;32m<ipython-input-12-36a5fe1d79ae>\u001b[0m in \u001b[0;36m<module>\u001b[0;34m()\u001b[0m\n\u001b[0;32m----> 1\u001b[0;31m \u001b[0mmatrix\u001b[0m\u001b[0;34m\u001b[0m\u001b[0;34m\u001b[0m\u001b[0m\n\u001b[0m",
            "\u001b[0;31mNameError\u001b[0m: name 'matrix' is not defined"
          ]
        }
      ]
    },
    {
      "cell_type": "code",
      "metadata": {
        "id": "aOObRB4buVau"
      },
      "source": [
        ""
      ],
      "execution_count": null,
      "outputs": []
    },
    {
      "cell_type": "code",
      "metadata": {
        "id": "KJdyREb43cLL"
      },
      "source": [
        "theta=np.random.rand(610,10)\n",
        "features=np.random.rand(9742,10)\n"
      ],
      "execution_count": null,
      "outputs": []
    },
    {
      "cell_type": "code",
      "metadata": {
        "id": "j9-ihmG-rXHU",
        "colab": {
          "base_uri": "https://localhost:8080/",
          "height": 238
        },
        "outputId": "499354cf-5ceb-4da8-ac6d-ea20fc68a8d1"
      },
      "source": [
        "print(theta)"
      ],
      "execution_count": null,
      "outputs": [
        {
          "output_type": "stream",
          "text": [
            "[[7.08716216e-01 7.66524806e-01 2.26862402e-01 ... 9.89125610e-01\n",
            "  6.30085791e-01 2.28643228e-01]\n",
            " [3.94044283e-01 3.89306876e-01 2.08396427e-01 ... 5.24927974e-01\n",
            "  2.02321065e-01 4.26456853e-04]\n",
            " [9.76110920e-01 6.37659427e-01 8.71340907e-01 ... 7.93952306e-02\n",
            "  2.25367661e-01 3.41296499e-01]\n",
            " ...\n",
            " [5.57362365e-01 9.44347281e-01 8.38475804e-01 ... 6.24574072e-01\n",
            "  4.10835851e-01 5.87146308e-01]\n",
            " [6.97133445e-01 3.30544544e-01 3.69182177e-01 ... 6.88164713e-01\n",
            "  3.79237666e-01 8.68120038e-01]\n",
            " [9.20038798e-02 4.53008015e-01 5.08902252e-01 ... 4.48970384e-02\n",
            "  2.08016399e-01 6.39066345e-01]]\n"
          ],
          "name": "stdout"
        }
      ]
    },
    {
      "cell_type": "code",
      "metadata": {
        "id": "s2OxAm1mrar8",
        "colab": {
          "base_uri": "https://localhost:8080/",
          "height": 136
        },
        "outputId": "691b1c17-32ee-41f1-9c45-92508bbea51a"
      },
      "source": [
        "print(features)"
      ],
      "execution_count": null,
      "outputs": [
        {
          "output_type": "stream",
          "text": [
            "[[0.15623247 0.90002879 0.46501609 ... 0.43635717 0.96640278 0.5507237 ]\n",
            " [0.68787574 0.01833357 0.59063878 ... 0.17134662 0.19882799 0.66528998]\n",
            " [0.62969402 0.90908939 0.38639528 ... 0.92288667 0.64884169 0.45269936]\n",
            " ...\n",
            " [0.38471786 0.16404135 0.24918222 ... 0.46537071 0.60760361 0.86622078]\n",
            " [0.93987034 0.37810438 0.36867774 ... 0.86248573 0.42464068 0.48539539]\n",
            " [0.42255425 0.75090946 0.94939396 ... 0.41823197 0.41135708 0.02580104]]\n"
          ],
          "name": "stdout"
        }
      ]
    },
    {
      "cell_type": "code",
      "metadata": {
        "id": "T2WqNHm48gfr"
      },
      "source": [
        "t={}\n",
        "for i in range(9742):\n",
        "  t[movies.loc[i,'movieId']]=i;"
      ],
      "execution_count": null,
      "outputs": []
    },
    {
      "cell_type": "code",
      "metadata": {
        "id": "_i76B1gpSMIv",
        "colab": {
          "base_uri": "https://localhost:8080/",
          "height": 34
        },
        "outputId": "ee2db6fb-6209-4abb-cb19-d49f1e5cf367"
      },
      "source": [
        "t[193609]"
      ],
      "execution_count": null,
      "outputs": [
        {
          "output_type": "execute_result",
          "data": {
            "text/plain": [
              "9741"
            ]
          },
          "metadata": {
            "tags": []
          },
          "execution_count": 17
        }
      ]
    },
    {
      "cell_type": "code",
      "metadata": {
        "id": "BAucyATITVXh",
        "colab": {
          "base_uri": "https://localhost:8080/",
          "height": 297
        },
        "outputId": "da23f2e5-daf5-4792-b7ac-31f87912776f"
      },
      "source": [
        "movies.describe()"
      ],
      "execution_count": null,
      "outputs": [
        {
          "output_type": "execute_result",
          "data": {
            "text/html": [
              "<div>\n",
              "<style scoped>\n",
              "    .dataframe tbody tr th:only-of-type {\n",
              "        vertical-align: middle;\n",
              "    }\n",
              "\n",
              "    .dataframe tbody tr th {\n",
              "        vertical-align: top;\n",
              "    }\n",
              "\n",
              "    .dataframe thead th {\n",
              "        text-align: right;\n",
              "    }\n",
              "</style>\n",
              "<table border=\"1\" class=\"dataframe\">\n",
              "  <thead>\n",
              "    <tr style=\"text-align: right;\">\n",
              "      <th></th>\n",
              "      <th>movieId</th>\n",
              "    </tr>\n",
              "  </thead>\n",
              "  <tbody>\n",
              "    <tr>\n",
              "      <th>count</th>\n",
              "      <td>9742.000000</td>\n",
              "    </tr>\n",
              "    <tr>\n",
              "      <th>mean</th>\n",
              "      <td>42200.353623</td>\n",
              "    </tr>\n",
              "    <tr>\n",
              "      <th>std</th>\n",
              "      <td>52160.494854</td>\n",
              "    </tr>\n",
              "    <tr>\n",
              "      <th>min</th>\n",
              "      <td>1.000000</td>\n",
              "    </tr>\n",
              "    <tr>\n",
              "      <th>25%</th>\n",
              "      <td>3248.250000</td>\n",
              "    </tr>\n",
              "    <tr>\n",
              "      <th>50%</th>\n",
              "      <td>7300.000000</td>\n",
              "    </tr>\n",
              "    <tr>\n",
              "      <th>75%</th>\n",
              "      <td>76232.000000</td>\n",
              "    </tr>\n",
              "    <tr>\n",
              "      <th>max</th>\n",
              "      <td>193609.000000</td>\n",
              "    </tr>\n",
              "  </tbody>\n",
              "</table>\n",
              "</div>"
            ],
            "text/plain": [
              "             movieId\n",
              "count    9742.000000\n",
              "mean    42200.353623\n",
              "std     52160.494854\n",
              "min         1.000000\n",
              "25%      3248.250000\n",
              "50%      7300.000000\n",
              "75%     76232.000000\n",
              "max    193609.000000"
            ]
          },
          "metadata": {
            "tags": []
          },
          "execution_count": 18
        }
      ]
    },
    {
      "cell_type": "code",
      "metadata": {
        "id": "QTgh8YIaW3o3",
        "colab": {
          "base_uri": "https://localhost:8080/",
          "height": 34
        },
        "outputId": "2eebf1b5-9606-4dda-966f-5e7b6c60fa3d"
      },
      "source": [
        "ratings['movieId'].nunique()"
      ],
      "execution_count": null,
      "outputs": [
        {
          "output_type": "execute_result",
          "data": {
            "text/plain": [
              "9724"
            ]
          },
          "metadata": {
            "tags": []
          },
          "execution_count": 19
        }
      ]
    },
    {
      "cell_type": "code",
      "metadata": {
        "id": "GhI8Lkf5o6P-",
        "colab": {
          "base_uri": "https://localhost:8080/",
          "height": 221
        },
        "outputId": "4930fc4e-d7b5-4088-e9c6-5bcb8f1cb7ed"
      },
      "source": [
        "ratings['movieId'].value_counts"
      ],
      "execution_count": null,
      "outputs": [
        {
          "output_type": "execute_result",
          "data": {
            "text/plain": [
              "<bound method IndexOpsMixin.value_counts of 0              1\n",
              "1              3\n",
              "2              6\n",
              "3             47\n",
              "4             50\n",
              "           ...  \n",
              "100831    166534\n",
              "100832    168248\n",
              "100833    168250\n",
              "100834    168252\n",
              "100835    170875\n",
              "Name: movieId, Length: 100836, dtype: int64>"
            ]
          },
          "metadata": {
            "tags": []
          },
          "execution_count": 21
        }
      ]
    },
    {
      "cell_type": "code",
      "metadata": {
        "id": "h4Dc5TJbT1Q2",
        "colab": {
          "base_uri": "https://localhost:8080/",
          "height": 297
        },
        "outputId": "03ba8e28-349b-4211-832f-df293e515686"
      },
      "source": [
        "ratings.describe()"
      ],
      "execution_count": null,
      "outputs": [
        {
          "output_type": "execute_result",
          "data": {
            "text/html": [
              "<div>\n",
              "<style scoped>\n",
              "    .dataframe tbody tr th:only-of-type {\n",
              "        vertical-align: middle;\n",
              "    }\n",
              "\n",
              "    .dataframe tbody tr th {\n",
              "        vertical-align: top;\n",
              "    }\n",
              "\n",
              "    .dataframe thead th {\n",
              "        text-align: right;\n",
              "    }\n",
              "</style>\n",
              "<table border=\"1\" class=\"dataframe\">\n",
              "  <thead>\n",
              "    <tr style=\"text-align: right;\">\n",
              "      <th></th>\n",
              "      <th>userId</th>\n",
              "      <th>movieId</th>\n",
              "      <th>rating</th>\n",
              "      <th>timestamp</th>\n",
              "    </tr>\n",
              "  </thead>\n",
              "  <tbody>\n",
              "    <tr>\n",
              "      <th>count</th>\n",
              "      <td>100836.000000</td>\n",
              "      <td>100836.000000</td>\n",
              "      <td>100836.000000</td>\n",
              "      <td>1.008360e+05</td>\n",
              "    </tr>\n",
              "    <tr>\n",
              "      <th>mean</th>\n",
              "      <td>326.127564</td>\n",
              "      <td>19435.295718</td>\n",
              "      <td>3.501557</td>\n",
              "      <td>1.205946e+09</td>\n",
              "    </tr>\n",
              "    <tr>\n",
              "      <th>std</th>\n",
              "      <td>182.618491</td>\n",
              "      <td>35530.987199</td>\n",
              "      <td>1.042529</td>\n",
              "      <td>2.162610e+08</td>\n",
              "    </tr>\n",
              "    <tr>\n",
              "      <th>min</th>\n",
              "      <td>1.000000</td>\n",
              "      <td>1.000000</td>\n",
              "      <td>0.500000</td>\n",
              "      <td>8.281246e+08</td>\n",
              "    </tr>\n",
              "    <tr>\n",
              "      <th>25%</th>\n",
              "      <td>177.000000</td>\n",
              "      <td>1199.000000</td>\n",
              "      <td>3.000000</td>\n",
              "      <td>1.019124e+09</td>\n",
              "    </tr>\n",
              "    <tr>\n",
              "      <th>50%</th>\n",
              "      <td>325.000000</td>\n",
              "      <td>2991.000000</td>\n",
              "      <td>3.500000</td>\n",
              "      <td>1.186087e+09</td>\n",
              "    </tr>\n",
              "    <tr>\n",
              "      <th>75%</th>\n",
              "      <td>477.000000</td>\n",
              "      <td>8122.000000</td>\n",
              "      <td>4.000000</td>\n",
              "      <td>1.435994e+09</td>\n",
              "    </tr>\n",
              "    <tr>\n",
              "      <th>max</th>\n",
              "      <td>610.000000</td>\n",
              "      <td>193609.000000</td>\n",
              "      <td>5.000000</td>\n",
              "      <td>1.537799e+09</td>\n",
              "    </tr>\n",
              "  </tbody>\n",
              "</table>\n",
              "</div>"
            ],
            "text/plain": [
              "              userId        movieId         rating     timestamp\n",
              "count  100836.000000  100836.000000  100836.000000  1.008360e+05\n",
              "mean      326.127564   19435.295718       3.501557  1.205946e+09\n",
              "std       182.618491   35530.987199       1.042529  2.162610e+08\n",
              "min         1.000000       1.000000       0.500000  8.281246e+08\n",
              "25%       177.000000    1199.000000       3.000000  1.019124e+09\n",
              "50%       325.000000    2991.000000       3.500000  1.186087e+09\n",
              "75%       477.000000    8122.000000       4.000000  1.435994e+09\n",
              "max       610.000000  193609.000000       5.000000  1.537799e+09"
            ]
          },
          "metadata": {
            "tags": []
          },
          "execution_count": 22
        }
      ]
    },
    {
      "cell_type": "code",
      "metadata": {
        "id": "iG62A-K1SnPt"
      },
      "source": [
        "\n",
        "\n",
        "  \n"
      ],
      "execution_count": null,
      "outputs": []
    },
    {
      "cell_type": "code",
      "metadata": {
        "id": "mMZkhcwPZkNB",
        "colab": {
          "base_uri": "https://localhost:8080/",
          "height": 136
        },
        "outputId": "7f9f2c58-944e-4d39-f16e-fe53a5a28bdd"
      },
      "source": [
        "print(r)"
      ],
      "execution_count": null,
      "outputs": [
        {
          "output_type": "stream",
          "text": [
            "[[1.00000e+00 1.00000e+00 4.00000e+00]\n",
            " [1.00000e+00 3.00000e+00 4.00000e+00]\n",
            " [1.00000e+00 6.00000e+00 4.00000e+00]\n",
            " ...\n",
            " [6.10000e+02 1.68250e+05 5.00000e+00]\n",
            " [6.10000e+02 1.68252e+05 5.00000e+00]\n",
            " [6.10000e+02 1.70875e+05 3.00000e+00]]\n"
          ],
          "name": "stdout"
        }
      ]
    },
    {
      "cell_type": "code",
      "metadata": {
        "id": "vPkKi2dudy-p",
        "colab": {
          "base_uri": "https://localhost:8080/",
          "height": 34
        },
        "outputId": "f250ff7d-45dd-44e2-a8fe-3fc71406554d"
      },
      "source": [
        "r.shape[0]"
      ],
      "execution_count": null,
      "outputs": [
        {
          "output_type": "execute_result",
          "data": {
            "text/plain": [
              "100836"
            ]
          },
          "metadata": {
            "tags": []
          },
          "execution_count": 24
        }
      ]
    },
    {
      "cell_type": "code",
      "metadata": {
        "id": "eBFnem5OeW5F"
      },
      "source": [
        "r_train=r"
      ],
      "execution_count": null,
      "outputs": []
    },
    {
      "cell_type": "code",
      "metadata": {
        "id": "zrf8a69qe49h",
        "colab": {
          "base_uri": "https://localhost:8080/",
          "height": 34
        },
        "outputId": "a477a31c-3ffb-42a2-bb8e-2a4244d73936"
      },
      "source": [
        "r_train.shape\n"
      ],
      "execution_count": null,
      "outputs": [
        {
          "output_type": "execute_result",
          "data": {
            "text/plain": [
              "(100836, 3)"
            ]
          },
          "metadata": {
            "tags": []
          },
          "execution_count": 32
        }
      ]
    },
    {
      "cell_type": "code",
      "metadata": {
        "id": "NItSplZTfJ9_"
      },
      "source": [
        ""
      ],
      "execution_count": null,
      "outputs": []
    },
    {
      "cell_type": "code",
      "metadata": {
        "id": "zL4qN_VzfRl1",
        "colab": {
          "base_uri": "https://localhost:8080/",
          "height": 136
        },
        "outputId": "557a6bd5-4172-4891-b193-e4ed180733de"
      },
      "source": [
        "matrix_of_ratings=np.zeros((611,9742))\n",
        "matrix_of_ratings-=1\n",
        "print(matrix_of_ratings)"
      ],
      "execution_count": null,
      "outputs": [
        {
          "output_type": "stream",
          "text": [
            "[[-1. -1. -1. ... -1. -1. -1.]\n",
            " [-1. -1. -1. ... -1. -1. -1.]\n",
            " [-1. -1. -1. ... -1. -1. -1.]\n",
            " ...\n",
            " [-1. -1. -1. ... -1. -1. -1.]\n",
            " [-1. -1. -1. ... -1. -1. -1.]\n",
            " [-1. -1. -1. ... -1. -1. -1.]]\n"
          ],
          "name": "stdout"
        }
      ]
    },
    {
      "cell_type": "code",
      "metadata": {
        "id": "1Ywl8QBKgAKv"
      },
      "source": [
        "for i in range(r_train.shape[0]):\n",
        "  matrix_of_ratings[int(r_train[i][0])][t[r_train[i][1]]]=r_train[i][2]"
      ],
      "execution_count": null,
      "outputs": []
    },
    {
      "cell_type": "code",
      "metadata": {
        "id": "1J53gx7Wg7t_",
        "colab": {
          "base_uri": "https://localhost:8080/",
          "height": 136
        },
        "outputId": "3fff7678-12a5-4f9d-e6b1-3d2715df4870"
      },
      "source": [
        "print(matrix_of_ratings)"
      ],
      "execution_count": null,
      "outputs": [
        {
          "output_type": "stream",
          "text": [
            "[[-1.  -1.  -1.  ... -1.  -1.  -1. ]\n",
            " [ 4.  -1.   4.  ... -1.  -1.  -1. ]\n",
            " [-1.  -1.  -1.  ... -1.  -1.  -1. ]\n",
            " ...\n",
            " [ 2.5  2.   2.  ... -1.  -1.  -1. ]\n",
            " [ 3.  -1.  -1.  ... -1.  -1.  -1. ]\n",
            " [ 5.  -1.  -1.  ... -1.  -1.  -1. ]]\n"
          ],
          "name": "stdout"
        }
      ]
    },
    {
      "cell_type": "code",
      "metadata": {
        "id": "7Z962m7mhAaA"
      },
      "source": [
        "matrix_of_ratings=matrix_of_ratings[1:,:]"
      ],
      "execution_count": null,
      "outputs": []
    },
    {
      "cell_type": "code",
      "metadata": {
        "id": "TW9mB0KlhYz_",
        "colab": {
          "base_uri": "https://localhost:8080/",
          "height": 153
        },
        "outputId": "8b48939b-da61-4e0b-cd21-2b16e3fc42b0"
      },
      "source": [
        "print(matrix_of_ratings)\n",
        "print(matrix_of_ratings.shape)\n",
        "\n"
      ],
      "execution_count": null,
      "outputs": [
        {
          "output_type": "stream",
          "text": [
            "[[ 4.  -1.   4.  ... -1.  -1.  -1. ]\n",
            " [-1.  -1.  -1.  ... -1.  -1.  -1. ]\n",
            " [-1.  -1.  -1.  ... -1.  -1.  -1. ]\n",
            " ...\n",
            " [ 2.5  2.   2.  ... -1.  -1.  -1. ]\n",
            " [ 3.  -1.  -1.  ... -1.  -1.  -1. ]\n",
            " [ 5.  -1.  -1.  ... -1.  -1.  -1. ]]\n",
            "(610, 9742)\n"
          ],
          "name": "stdout"
        }
      ]
    },
    {
      "cell_type": "code",
      "metadata": {
        "id": "HKLZUALXhenI"
      },
      "source": [
        "def cost_function(theta,features,m,lam):\n",
        "  p_rat=np.dot(theta,np.transpose(features))\n",
        "  sum=0\n",
        "  for i in range(m.shape[0]):\n",
        "    for j in range(m.shape[1]):\n",
        "      if(int(m[i][j])!=-1):\n",
        "        sum+=(p_rat[i][j]-m[i][j])**2\n",
        "  sum=(0.5)*(sum)\n",
        "  reg1=0\n",
        "  reg2=0\n",
        "  for i in range(theta.shape[0]):\n",
        "    for j in range(theta.shape[1]):\n",
        "      reg1+=(theta[i][j])**2\n",
        "\n",
        "\n",
        "\n",
        "  for i in range(features.shape[0]):\n",
        "    for j in range(features.shape[1]):\n",
        "      reg2+=(features[i][j])**2\n",
        "\n",
        "\n",
        "  reg1=lam*0.5*reg1\n",
        "  reg2=lam*0.5*reg2\n",
        "  error=sum+reg1+reg2\n",
        "  \n",
        "  return error\n",
        "      \n",
        "\n"
      ],
      "execution_count": null,
      "outputs": []
    },
    {
      "cell_type": "code",
      "metadata": {
        "id": "fCIzupSciEbs"
      },
      "source": [
        "def gradx(theta,features,m,lam):\n",
        "  p_rat=np.dot(theta,np.transpose(features))\n",
        "  sum=np.zeros((features.shape[1]))\n",
        "  gradientx=np.zeros((features.shape))\n",
        "\n",
        "  for i in range(m.shape[1]):\n",
        "    sum=np.zeros((features.shape[1]))\n",
        "    for j in range(m.shape[0]):\n",
        "       if(int(m[j][i])!=-1):\n",
        "          sum+=(p_rat[j][i]-m[j][i])*theta[j]\n",
        "    gradientx[i]=sum+(lam/2)*features[i]\n",
        "\n",
        "  return gradientx\n",
        "\n"
      ],
      "execution_count": null,
      "outputs": []
    },
    {
      "cell_type": "code",
      "metadata": {
        "id": "offu9gBXcQBi"
      },
      "source": [
        "def gradtheta(theta,features,m,lam):\n",
        "  p_rat=np.dot(theta,np.transpose(features))\n",
        "\n",
        "  gradient=np.zeros((theta.shape))\n",
        "  for i in range(m.shape[0]):\n",
        "    sum=np.zeros((theta.shape[1]))\n",
        "    for j in range(m.shape[1]):\n",
        "      if(m[i][j]!=-1):\n",
        "        sum+=(p_rat[i][j]-m[i][j])*features[j]\n",
        "    gradient[i]=sum+(lam/2)*theta[i]\n",
        "  return gradient\n"
      ],
      "execution_count": null,
      "outputs": []
    },
    {
      "cell_type": "code",
      "metadata": {
        "id": "j1LzHyLMdmcg"
      },
      "source": [
        "def grad_des(theta,features,m,lam,error_list,learning_rate=0.001):\n",
        "  i=0\n",
        "  while(i<=10):\n",
        "      error=cost_function(theta,features,m,lam)\n",
        "      error_list.append(error)\n",
        "      print(\"error is \"+str(error)+\"  for the iteration \"+str(i)+\"\\n\")\n",
        "      print(\"predicted ratings \\n\")\n",
        "      predicted=np.dot(theta,np.transpose(features))\n",
        "      print(predicted)\n",
        "      print(\"\\n\")\n",
        "      gradientx=gradx(theta,features,m,lam)\n",
        "      gradient_theta=gradtheta(theta,features,m,lam)\n",
        "      features=features-learning_rate*(gradientx)\n",
        "      theta=theta-learning_rate*(gradient_theta)\n",
        "      i+=1\n",
        "  return predicted,theta,features,error_list\n",
        "\n",
        "\n",
        "\n",
        "\n"
      ],
      "execution_count": null,
      "outputs": []
    },
    {
      "cell_type": "code",
      "metadata": {
        "id": "s_UcAqpgf6Re",
        "colab": {
          "base_uri": "https://localhost:8080/",
          "height": 1000
        },
        "outputId": "1ca12a9c-faa2-49bd-f090-e2fd8a27cb26"
      },
      "source": [
        "error_list=[]\n",
        "lam=1000\n",
        "learning_rate=0.001\n",
        "#gradientx=gradx(theta,features,matrix_of_ratings,lam)\n",
        "#print(gradientx)\n",
        "predicted,theta,features,error_list=grad_des(theta,features,matrix_of_ratings,lam,error_list,learning_rate)"
      ],
      "execution_count": null,
      "outputs": [
        {
          "output_type": "stream",
          "text": [
            "error is 17395818.378216784  for the iteration 0\n",
            "\n",
            "predicted ratings \n",
            "\n",
            "[[2.87111089 1.89607991 4.22247807 ... 2.96854714 4.2605264  2.58144179]\n",
            " [1.47384263 1.06380941 2.26529645 ... 1.44779895 2.16697806 1.34853065]\n",
            " [2.52853771 1.90570502 3.51271998 ... 2.12856512 3.52035346 2.77751751]\n",
            " ...\n",
            " [3.13956838 2.27080148 4.09313904 ... 2.86379513 3.76843132 2.79012199]\n",
            " [2.49880691 2.24116148 3.19861124 ... 3.07016321 3.67155114 1.978019  ]\n",
            " [2.04194196 1.92302048 2.70043259 ... 2.76538667 3.08011034 1.76264464]]\n",
            "\n",
            "\n",
            "error is 4936744.670721781  for the iteration 1\n",
            "\n",
            "predicted ratings \n",
            "\n",
            "[[1.69941725 1.12581039 1.485051   ... 1.11191985 1.54375174 0.96846633]\n",
            " [0.7022201  0.48403084 0.65413751 ... 0.4435898  0.64594436 0.40464104]\n",
            " [0.95005996 0.68692749 0.8372521  ... 0.51971618 0.85835277 0.67486304]\n",
            " ...\n",
            " [1.20985018 0.84076765 1.00536531 ... 0.73417752 0.96115908 0.70113941]\n",
            " [1.02805465 0.81614524 0.81554852 ... 0.7955226  0.9552167  0.52123232]\n",
            " [4.0654663  2.80937016 3.29808511 ... 2.71750523 3.49774064 2.29162106]]\n",
            "\n",
            "\n",
            "error is 1909179.861869065  for the iteration 2\n",
            "\n",
            "predicted ratings \n",
            "\n",
            "[[1.53856528 0.93803536 0.82621148 ... 0.54177463 0.73219817 0.47750685]\n",
            " [0.4306315  0.26635006 0.24472261 ... 0.1480289  0.20942147 0.13276812]\n",
            " [0.51113971 0.32615227 0.28234369 ... 0.15486966 0.24726677 0.1903294 ]\n",
            " ...\n",
            " [2.4663883  1.5123856  1.30228119 ... 0.85143754 1.12922199 0.77937222]\n",
            " [0.58452711 0.38734323 0.29729258 ... 0.23515553 0.28732686 0.16319882]\n",
            " [2.92707095 1.80922766 1.52780367 ... 1.04761993 1.36200795 0.90477396]]\n",
            "\n",
            "\n",
            "error is 1116628.405388947  for the iteration 3\n",
            "\n",
            "predicted ratings \n",
            "\n",
            "[[1.25823721 0.75593884 0.48966353 ... 0.24011677 0.32001889 0.21394069]\n",
            " [0.27576064 0.16651129 0.11105849 ... 0.05169281 0.07132154 0.04609422]\n",
            " [0.2835934  0.17425639 0.11303118 ... 0.04762652 0.07346112 0.05566146]\n",
            " ...\n",
            " [2.08530434 1.2541951  0.80815148 ... 0.39363107 0.52090354 0.35990103]\n",
            " [0.358501   0.22257677 0.13570308 ... 0.07546576 0.09387363 0.0560586 ]\n",
            " [2.99987482 1.80751503 1.15753273 ... 0.57600023 0.75560908 0.5110017 ]]\n",
            "\n",
            "\n",
            "error is 904174.0991654308  for the iteration 4\n",
            "\n",
            "predicted ratings \n",
            "\n",
            "[[1.06135221 0.63660611 0.36246972 ... 0.10689104 0.1410408  0.09688217]\n",
            " [0.19361848 0.1163394  0.06714161 ... 0.0192762  0.02602556 0.01733977]\n",
            " [0.16523522 0.10018617 0.05728095 ... 0.01497672 0.0223383  0.01683772]\n",
            " ...\n",
            " [1.83230845 1.09917609 0.62540419 ... 0.18331385 0.24141695 0.1690504 ]\n",
            " [0.24530902 0.14882521 0.08287508 ... 0.02644528 0.03337565 0.02111837]\n",
            " [2.64986261 1.59043455 0.90322668 ... 0.26760285 0.35079452 0.24239991]]\n",
            "\n",
            "\n",
            "error is 829158.8586186937  for the iteration 5\n",
            "\n",
            "predicted ratings \n",
            "\n",
            "[[0.91326789 0.54499132 0.28749805 ... 0.04981995 0.06512819 0.04651945]\n",
            " [0.14469118 0.08640179 0.0458211  ... 0.00784319 0.01039101 0.00725446]\n",
            " [0.09798525 0.05877646 0.03110291 ... 0.00492535 0.00709586 0.00541034]\n",
            " ...\n",
            " [1.62174725 0.96777903 0.51058395 ... 0.08810187 0.11518573 0.08316379]\n",
            " [0.18000618 0.10781779 0.05644846 ... 0.01025634 0.01305746 0.00884347]\n",
            " [2.26872882 1.35407819 0.71399905 ... 0.12389724 0.1615861  0.11572181]]\n",
            "\n",
            "\n",
            "error is 795209.9150377786  for the iteration 6\n",
            "\n",
            "predicted ratings \n",
            "\n",
            "[[8.03846218e-01 4.76047380e-01 2.38604595e-01 ... 2.40655573e-02\n",
            "  3.11160524e-02 2.37070280e-02]\n",
            " [1.15142582e-01 6.82071519e-02 3.42496264e-02 ... 3.43665245e-03\n",
            "  4.47437836e-03 3.35893747e-03]\n",
            " [6.12404328e-02 3.63535247e-02 1.82535720e-02 ... 1.72856608e-03\n",
            "  2.40133956e-03 1.90765299e-03]\n",
            " ...\n",
            " [1.45729258e+00 8.63025480e-01 4.32625157e-01 ... 4.35168700e-02\n",
            "  5.63034806e-02 4.31448559e-02]\n",
            " [1.41748342e-01 8.40406163e-02 4.20216492e-02 ... 4.35466505e-03\n",
            "  5.54849651e-03 4.09824804e-03]\n",
            " [1.96573966e+00 1.16419224e+00 5.83508072e-01 ... 5.88700304e-02\n",
            "  7.60699075e-02 5.80145312e-02]]\n",
            "\n",
            "\n",
            "error is 776024.809084204  for the iteration 7\n",
            "\n",
            "predicted ratings \n",
            "\n",
            "[[7.20444030e-01 4.23306918e-01 2.04585044e-01 ... 1.20536925e-02\n",
            "  1.53550240e-02 1.30115828e-02]\n",
            " [9.62749490e-02 5.65741544e-02 2.73581819e-02 ... 1.60869524e-03\n",
            "  2.05588212e-03 1.72754618e-03]\n",
            " [4.10318332e-02 2.41333202e-02 1.16738938e-02 ... 6.60478195e-04\n",
            "  8.83306585e-04 7.65969589e-04]\n",
            " ...\n",
            " [1.32696368e+00 7.79677923e-01 3.76847780e-01 ... 2.21673700e-02\n",
            "  2.82571180e-02 2.40145312e-02]\n",
            " [1.18018287e-01 6.93664735e-02 3.35005403e-02 ... 2.00306295e-03\n",
            "  2.53227347e-03 2.11092530e-03]\n",
            " [1.73750618e+00 1.02091617e+00 4.93427281e-01 ... 2.90707032e-02\n",
            "  3.70328606e-02 3.13896737e-02]]\n",
            "\n",
            "\n",
            "error is 763381.6961699751  for the iteration 8\n",
            "\n",
            "predicted ratings \n",
            "\n",
            "[[6.54985364e-01 3.82101817e-01 1.79842198e-01 ... 6.31000431e-03\n",
            "  7.87270101e-03 7.84176409e-03]\n",
            " [8.34920284e-02 4.87095525e-02 2.29296894e-02 ... 8.03965702e-04\n",
            "  1.00436960e-03 9.96266183e-04]\n",
            " [2.96745368e-02 1.73183360e-02 8.15428657e-03 ... 2.79443937e-04\n",
            "  3.59187290e-04 3.61455229e-04]\n",
            " ...\n",
            " [1.22158287e+00 7.12642402e-01 3.35427075e-01 ... 1.17581984e-02\n",
            "  1.46771448e-02 1.46395646e-02]\n",
            " [1.02339174e-01 5.97078146e-02 2.80964083e-02 ... 9.93319643e-04\n",
            "  1.23466534e-03 1.22016299e-03]\n",
            " [1.56492767e+00 9.12947512e-01 4.29702251e-01 ... 1.50749998e-02\n",
            "  1.88114683e-02 1.87378804e-02]]\n",
            "\n",
            "\n",
            "error is 754252.4990061674  for the iteration 9\n",
            "\n",
            "predicted ratings \n",
            "\n",
            "[[6.02469978e-01 3.49309196e-01 1.61236400e-01 ... 3.50261959e-03\n",
            "  4.24810243e-03 5.25690553e-03]\n",
            " [7.43592491e-02 4.31140702e-02 1.99016945e-02 ... 4.32244442e-04\n",
            "  5.24458850e-04 6.47852869e-04]\n",
            " [2.30824777e-02 1.33850916e-02 6.17933585e-03 ... 1.32608213e-04\n",
            "  1.63474484e-04 2.02954587e-04]\n",
            " ...\n",
            " [1.13503877e+00 6.58091291e-01 3.03769823e-01 ... 6.59573396e-03\n",
            "  8.00190617e-03 9.90802733e-03]\n",
            " [9.13447328e-02 5.29627011e-02 2.44453503e-02 ... 5.33004915e-04\n",
            "  6.45309595e-04 7.95791760e-04]\n",
            " [1.43185626e+00 8.30187138e-01 3.83206806e-01 ... 8.32371780e-03\n",
            "  1.00968758e-02 1.24940796e-02]]\n",
            "\n",
            "\n",
            "error is 747295.3855130768  for the iteration 10\n",
            "\n",
            "predicted ratings \n",
            "\n",
            "[[5.59626812e-01 3.22798275e-01 1.46861762e-01 ... 2.09923720e-03\n",
            "  2.45701457e-03 3.90816245e-03]\n",
            " [6.75375849e-02 3.89567106e-02 1.77240621e-02 ... 2.53334114e-04\n",
            "  2.96531018e-04 4.71367877e-04]\n",
            " [1.90922161e-02 1.10131436e-02 5.01088208e-03 ... 7.12261852e-05\n",
            "  8.40278211e-05 1.33720744e-04]\n",
            " ...\n",
            " [1.06309438e+00 6.13204016e-01 2.78987319e-01 ... 3.98687057e-03\n",
            "  4.66711233e-03 7.42534382e-03]\n",
            " [8.32274463e-02 4.80068034e-02 2.18409969e-02 ... 3.12718297e-04\n",
            "  3.65728530e-04 5.80919596e-04]\n",
            " [1.32689089e+00 7.65365454e-01 3.48215354e-01 ... 4.97700442e-03\n",
            "  5.82584995e-03 9.26637099e-03]]\n",
            "\n",
            "\n"
          ],
          "name": "stdout"
        }
      ]
    },
    {
      "cell_type": "code",
      "metadata": {
        "id": "Sx2e8EGcjZ4Z",
        "colab": {
          "base_uri": "https://localhost:8080/",
          "height": 136
        },
        "outputId": "7490d957-f0c8-4490-ef78-9a8c4b15a97c"
      },
      "source": [
        "print(theta)"
      ],
      "execution_count": null,
      "outputs": [
        {
          "output_type": "stream",
          "text": [
            "[[0.21427646 0.21944274 0.21202539 ... 0.21756227 0.21074835 0.21157069]\n",
            " [0.02561989 0.0264038  0.02530618 ... 0.02602141 0.02538594 0.02531732]\n",
            " [0.00679976 0.00666355 0.00677078 ... 0.00666466 0.0069095  0.00651078]\n",
            " ...\n",
            " [0.40896464 0.41923523 0.40650502 ... 0.41553836 0.40269932 0.4040394 ]\n",
            " [0.03139086 0.03229931 0.03141114 ... 0.03203867 0.03072934 0.03091248]\n",
            " [0.50549982 0.51928713 0.50359258 ... 0.51488809 0.5000065  0.50190885]]\n"
          ],
          "name": "stdout"
        }
      ]
    },
    {
      "cell_type": "code",
      "metadata": {
        "id": "VRaHanjqqdjm",
        "colab": {
          "base_uri": "https://localhost:8080/",
          "height": 136
        },
        "outputId": "e529dba6-71aa-4e62-c992-378031a1661c"
      },
      "source": [
        "print(features)"
      ],
      "execution_count": null,
      "outputs": [
        {
          "output_type": "stream",
          "text": [
            "[[0.24651314 0.25306016 0.24459789 ... 0.25036144 0.24304567 0.24328053]\n",
            " [0.14153714 0.14513395 0.14120509 ... 0.14397389 0.13962347 0.13958707]\n",
            " [0.06388238 0.0652958  0.06328217 ... 0.06494098 0.06270815 0.06327014]\n",
            " ...\n",
            " [0.0006832  0.00083952 0.00061517 ... 0.00059446 0.00060372 0.00049029]\n",
            " [0.00068967 0.00049798 0.00064145 ... 0.00060433 0.00039133 0.00052581]\n",
            " [0.00164749 0.00143825 0.00142787 ... 0.0016763  0.00157302 0.00161946]]\n"
          ],
          "name": "stdout"
        }
      ]
    },
    {
      "cell_type": "code",
      "metadata": {
        "id": "YYVMGAF2qhht",
        "colab": {
          "base_uri": "https://localhost:8080/",
          "height": 238
        },
        "outputId": "ab7d846b-140a-42f8-9e00-c26c70b99f79"
      },
      "source": [
        "print(predicted)"
      ],
      "execution_count": null,
      "outputs": [
        {
          "output_type": "stream",
          "text": [
            "[[5.63807132e-01 3.25414463e-01 1.48137188e-01 ... 2.06324892e-03\n",
            "  1.87531647e-03 4.13624337e-03]\n",
            " [6.87010871e-02 3.96524353e-02 1.80508390e-02 ... 2.51262651e-04\n",
            "  2.28082628e-04 5.04223605e-04]\n",
            " [1.91405286e-02 1.10482428e-02 5.02886700e-03 ... 6.96047041e-05\n",
            "  6.34440605e-05 1.40349336e-04]\n",
            " ...\n",
            " [1.06998249e+00 6.17569055e-01 2.81131388e-01 ... 3.91521120e-03\n",
            "  3.55935297e-03 7.84888512e-03]\n",
            " [8.38594243e-02 4.84025747e-02 2.20334995e-02 ... 3.06759069e-04\n",
            "  2.79140499e-04 6.14925068e-04]\n",
            " [1.33592355e+00 7.71063539e-01 3.51005547e-01 ... 4.88760277e-03\n",
            "  4.44414862e-03 9.80073764e-03]]\n"
          ],
          "name": "stdout"
        }
      ]
    },
    {
      "cell_type": "code",
      "metadata": {
        "id": "fj7s3mxU2DBq",
        "colab": {
          "base_uri": "https://localhost:8080/",
          "height": 34
        },
        "outputId": "b090e19e-acf9-44da-f31d-01313c80bd4c"
      },
      "source": [
        "predicted[0][1]\n"
      ],
      "execution_count": null,
      "outputs": [
        {
          "output_type": "execute_result",
          "data": {
            "text/plain": [
              "3.7419656160703996"
            ]
          },
          "metadata": {
            "tags": []
          },
          "execution_count": 67
        }
      ]
    },
    {
      "cell_type": "code",
      "metadata": {
        "id": "oWytO66S2bvV",
        "colab": {
          "base_uri": "https://localhost:8080/",
          "height": 85
        },
        "outputId": "7790012a-212c-4e1d-ad69-89dc1a164aa6"
      },
      "source": [
        "print(movies.loc[1])"
      ],
      "execution_count": null,
      "outputs": [
        {
          "output_type": "stream",
          "text": [
            "movieId                             2\n",
            "title                  Jumanji (1995)\n",
            "genres     Adventure|Children|Fantasy\n",
            "Name: 1, dtype: object\n"
          ],
          "name": "stdout"
        }
      ]
    },
    {
      "cell_type": "code",
      "metadata": {
        "id": "JtSSlXi62hN4",
        "colab": {
          "base_uri": "https://localhost:8080/",
          "height": 102
        },
        "outputId": "fdd6c01f-d574-4018-e32e-d79a376405b8"
      },
      "source": [
        "print(ratings.loc[1])"
      ],
      "execution_count": null,
      "outputs": [
        {
          "output_type": "stream",
          "text": [
            "userId               1.0\n",
            "movieId              3.0\n",
            "rating               4.0\n",
            "timestamp    964981247.0\n",
            "Name: 1, dtype: float64\n"
          ],
          "name": "stdout"
        }
      ]
    },
    {
      "cell_type": "code",
      "metadata": {
        "id": "A_MTrKvv9ZLa",
        "colab": {
          "base_uri": "https://localhost:8080/",
          "height": 204
        },
        "outputId": "97de9b41-82f3-463b-ba1d-1081420b01bc"
      },
      "source": [
        "ratings.head()"
      ],
      "execution_count": null,
      "outputs": [
        {
          "output_type": "execute_result",
          "data": {
            "text/html": [
              "<div>\n",
              "<style scoped>\n",
              "    .dataframe tbody tr th:only-of-type {\n",
              "        vertical-align: middle;\n",
              "    }\n",
              "\n",
              "    .dataframe tbody tr th {\n",
              "        vertical-align: top;\n",
              "    }\n",
              "\n",
              "    .dataframe thead th {\n",
              "        text-align: right;\n",
              "    }\n",
              "</style>\n",
              "<table border=\"1\" class=\"dataframe\">\n",
              "  <thead>\n",
              "    <tr style=\"text-align: right;\">\n",
              "      <th></th>\n",
              "      <th>userId</th>\n",
              "      <th>movieId</th>\n",
              "      <th>rating</th>\n",
              "      <th>timestamp</th>\n",
              "    </tr>\n",
              "  </thead>\n",
              "  <tbody>\n",
              "    <tr>\n",
              "      <th>0</th>\n",
              "      <td>1</td>\n",
              "      <td>1</td>\n",
              "      <td>4.0</td>\n",
              "      <td>964982703</td>\n",
              "    </tr>\n",
              "    <tr>\n",
              "      <th>1</th>\n",
              "      <td>1</td>\n",
              "      <td>3</td>\n",
              "      <td>4.0</td>\n",
              "      <td>964981247</td>\n",
              "    </tr>\n",
              "    <tr>\n",
              "      <th>2</th>\n",
              "      <td>1</td>\n",
              "      <td>6</td>\n",
              "      <td>4.0</td>\n",
              "      <td>964982224</td>\n",
              "    </tr>\n",
              "    <tr>\n",
              "      <th>3</th>\n",
              "      <td>1</td>\n",
              "      <td>47</td>\n",
              "      <td>5.0</td>\n",
              "      <td>964983815</td>\n",
              "    </tr>\n",
              "    <tr>\n",
              "      <th>4</th>\n",
              "      <td>1</td>\n",
              "      <td>50</td>\n",
              "      <td>5.0</td>\n",
              "      <td>964982931</td>\n",
              "    </tr>\n",
              "  </tbody>\n",
              "</table>\n",
              "</div>"
            ],
            "text/plain": [
              "   userId  movieId  rating  timestamp\n",
              "0       1        1     4.0  964982703\n",
              "1       1        3     4.0  964981247\n",
              "2       1        6     4.0  964982224\n",
              "3       1       47     5.0  964983815\n",
              "4       1       50     5.0  964982931"
            ]
          },
          "metadata": {
            "tags": []
          },
          "execution_count": 109
        }
      ]
    },
    {
      "cell_type": "code",
      "metadata": {
        "id": "3Zrj0x6K91wU",
        "colab": {
          "base_uri": "https://localhost:8080/",
          "height": 204
        },
        "outputId": "51b63578-7734-4a6a-f9e5-d92be379e6b0"
      },
      "source": [
        "movies.head()"
      ],
      "execution_count": null,
      "outputs": [
        {
          "output_type": "execute_result",
          "data": {
            "text/html": [
              "<div>\n",
              "<style scoped>\n",
              "    .dataframe tbody tr th:only-of-type {\n",
              "        vertical-align: middle;\n",
              "    }\n",
              "\n",
              "    .dataframe tbody tr th {\n",
              "        vertical-align: top;\n",
              "    }\n",
              "\n",
              "    .dataframe thead th {\n",
              "        text-align: right;\n",
              "    }\n",
              "</style>\n",
              "<table border=\"1\" class=\"dataframe\">\n",
              "  <thead>\n",
              "    <tr style=\"text-align: right;\">\n",
              "      <th></th>\n",
              "      <th>movieId</th>\n",
              "      <th>title</th>\n",
              "      <th>genres</th>\n",
              "    </tr>\n",
              "  </thead>\n",
              "  <tbody>\n",
              "    <tr>\n",
              "      <th>0</th>\n",
              "      <td>1</td>\n",
              "      <td>Toy Story (1995)</td>\n",
              "      <td>Adventure|Animation|Children|Comedy|Fantasy</td>\n",
              "    </tr>\n",
              "    <tr>\n",
              "      <th>1</th>\n",
              "      <td>2</td>\n",
              "      <td>Jumanji (1995)</td>\n",
              "      <td>Adventure|Children|Fantasy</td>\n",
              "    </tr>\n",
              "    <tr>\n",
              "      <th>2</th>\n",
              "      <td>3</td>\n",
              "      <td>Grumpier Old Men (1995)</td>\n",
              "      <td>Comedy|Romance</td>\n",
              "    </tr>\n",
              "    <tr>\n",
              "      <th>3</th>\n",
              "      <td>4</td>\n",
              "      <td>Waiting to Exhale (1995)</td>\n",
              "      <td>Comedy|Drama|Romance</td>\n",
              "    </tr>\n",
              "    <tr>\n",
              "      <th>4</th>\n",
              "      <td>5</td>\n",
              "      <td>Father of the Bride Part II (1995)</td>\n",
              "      <td>Comedy</td>\n",
              "    </tr>\n",
              "  </tbody>\n",
              "</table>\n",
              "</div>"
            ],
            "text/plain": [
              "   movieId  ...                                       genres\n",
              "0        1  ...  Adventure|Animation|Children|Comedy|Fantasy\n",
              "1        2  ...                   Adventure|Children|Fantasy\n",
              "2        3  ...                               Comedy|Romance\n",
              "3        4  ...                         Comedy|Drama|Romance\n",
              "4        5  ...                                       Comedy\n",
              "\n",
              "[5 rows x 3 columns]"
            ]
          },
          "metadata": {
            "tags": []
          },
          "execution_count": 110
        }
      ]
    },
    {
      "cell_type": "code",
      "metadata": {
        "id": "lCd6HBQT9_oA",
        "colab": {
          "base_uri": "https://localhost:8080/",
          "height": 34
        },
        "outputId": "801b758f-4537-41cd-90e0-384bbb13afd1"
      },
      "source": [
        "np.linalg.norm(features[0]-features[1])"
      ],
      "execution_count": null,
      "outputs": [
        {
          "output_type": "execute_result",
          "data": {
            "text/plain": [
              "0.4348526220246686"
            ]
          },
          "metadata": {
            "tags": []
          },
          "execution_count": 111
        }
      ]
    },
    {
      "cell_type": "code",
      "metadata": {
        "id": "_NxN8cmN-hlr",
        "colab": {
          "base_uri": "https://localhost:8080/",
          "height": 232
        },
        "outputId": "3c175961-a5a9-4e14-a565-d14f6dd1801c"
      },
      "source": [
        "i=0\n",
        "j=1\n",
        "while(i<10 and j<9742):\n",
        "  if(np.linalg.norm(features[0]-features[j])<0.1):\n",
        "    print(movies.loc[j])\n",
        "    i+=1\n",
        "  j+=1  \n",
        "\n",
        "\n"
      ],
      "execution_count": null,
      "outputs": [
        {
          "output_type": "error",
          "ename": "NameError",
          "evalue": "ignored",
          "traceback": [
            "\u001b[0;31m---------------------------------------------------------------------------\u001b[0m",
            "\u001b[0;31mNameError\u001b[0m                                 Traceback (most recent call last)",
            "\u001b[0;32m<ipython-input-1-a3c4ca8f0ffb>\u001b[0m in \u001b[0;36m<module>\u001b[0;34m()\u001b[0m\n\u001b[1;32m      2\u001b[0m \u001b[0mj\u001b[0m\u001b[0;34m=\u001b[0m\u001b[0;36m1\u001b[0m\u001b[0;34m\u001b[0m\u001b[0;34m\u001b[0m\u001b[0m\n\u001b[1;32m      3\u001b[0m \u001b[0;32mwhile\u001b[0m\u001b[0;34m(\u001b[0m\u001b[0mi\u001b[0m\u001b[0;34m<\u001b[0m\u001b[0;36m10\u001b[0m \u001b[0;32mand\u001b[0m \u001b[0mj\u001b[0m\u001b[0;34m<\u001b[0m\u001b[0;36m9742\u001b[0m\u001b[0;34m)\u001b[0m\u001b[0;34m:\u001b[0m\u001b[0;34m\u001b[0m\u001b[0;34m\u001b[0m\u001b[0m\n\u001b[0;32m----> 4\u001b[0;31m   \u001b[0;32mif\u001b[0m\u001b[0;34m(\u001b[0m\u001b[0mnp\u001b[0m\u001b[0;34m.\u001b[0m\u001b[0mlinalg\u001b[0m\u001b[0;34m.\u001b[0m\u001b[0mnorm\u001b[0m\u001b[0;34m(\u001b[0m\u001b[0mfeatures\u001b[0m\u001b[0;34m[\u001b[0m\u001b[0;36m0\u001b[0m\u001b[0;34m]\u001b[0m\u001b[0;34m-\u001b[0m\u001b[0mfeatures\u001b[0m\u001b[0;34m[\u001b[0m\u001b[0mj\u001b[0m\u001b[0;34m]\u001b[0m\u001b[0;34m)\u001b[0m\u001b[0;34m<\u001b[0m\u001b[0;36m0.1\u001b[0m\u001b[0;34m)\u001b[0m\u001b[0;34m:\u001b[0m\u001b[0;34m\u001b[0m\u001b[0;34m\u001b[0m\u001b[0m\n\u001b[0m\u001b[1;32m      5\u001b[0m     \u001b[0mprint\u001b[0m\u001b[0;34m(\u001b[0m\u001b[0mmovies\u001b[0m\u001b[0;34m.\u001b[0m\u001b[0mloc\u001b[0m\u001b[0;34m[\u001b[0m\u001b[0mj\u001b[0m\u001b[0;34m]\u001b[0m\u001b[0;34m)\u001b[0m\u001b[0;34m\u001b[0m\u001b[0;34m\u001b[0m\u001b[0m\n\u001b[1;32m      6\u001b[0m     \u001b[0mi\u001b[0m\u001b[0;34m+=\u001b[0m\u001b[0;36m1\u001b[0m\u001b[0;34m\u001b[0m\u001b[0;34m\u001b[0m\u001b[0m\n",
            "\u001b[0;31mNameError\u001b[0m: name 'np' is not defined"
          ]
        }
      ]
    },
    {
      "cell_type": "code",
      "metadata": {
        "id": "Q8VXIOeg_JXk",
        "colab": {
          "base_uri": "https://localhost:8080/",
          "height": 282
        },
        "outputId": "8b0a9c57-8110-4db8-dca3-b72a742f2630"
      },
      "source": [
        "plt.plot(error_list)"
      ],
      "execution_count": null,
      "outputs": [
        {
          "output_type": "execute_result",
          "data": {
            "text/plain": [
              "[<matplotlib.lines.Line2D at 0x7fe6e04f8128>]"
            ]
          },
          "metadata": {
            "tags": []
          },
          "execution_count": 59
        },
        {
          "output_type": "display_data",
          "data": {
            "image/png": "[encoded data removed]",
            "text/plain": [
              "<Figure size 432x288 with 1 Axes>"
            ]
          },
          "metadata": {
            "tags": [],
            "needs_background": "light"
          }
        }
      ]
    },
    {
      "cell_type": "code",
      "metadata": {
        "id": "aKQ4XKwfeyNa"
      },
      "source": [
        ""
      ],
      "execution_count": null,
      "outputs": []
    }
  ]
}